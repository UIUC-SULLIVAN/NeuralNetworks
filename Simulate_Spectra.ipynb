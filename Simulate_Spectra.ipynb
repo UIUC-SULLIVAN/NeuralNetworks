{
 "cells": [
  {
   "cell_type": "markdown",
   "metadata": {},
   "source": [
    "# Simulate and downsample spectra."
   ]
  },
  {
   "cell_type": "markdown",
   "metadata": {},
   "source": [
    "This code is a cleaned up demonstration of how to simulate and downsample any spectrum.\n",
    "\n",
    "This code performs the following:\n",
    "\n",
    "1) Load the already normalized MCNP outputs (the simulated detector responses)\n",
    "\n",
    "2) For a specified isotope, generate the corresponding pseudospectrum\n",
    "\n",
    "3) Sample the spectrum to get a simulation with any number of counts\n",
    "\n",
    "Written by Jacob Stinnett.  Last updated 3/30/2016."
   ]
  },
  {
   "cell_type": "code",
   "execution_count": 1,
   "metadata": {
    "collapsed": true
   },
   "outputs": [],
   "source": [
    "%matplotlib inline"
   ]
  },
  {
   "cell_type": "code",
   "execution_count": 2,
   "metadata": {
    "collapsed": false
   },
   "outputs": [],
   "source": [
    "import numpy as np\n",
    "import matplotlib.pyplot as plt\n",
    "\n",
    "from fun_detector_efficiency import detector_efficiency\n",
    "from fun_generate_isotope    import generate_isotope\n",
    "\n",
    "from fun_get_DRF             import get_DRF\n",
    "\n",
    "from fun_sample_spectrum     import sample_spectrum\n",
    "# Load the MCNP-generated normalized detector response functions.\n",
    "from scipy.ndimage.interpolation import zoom\n",
    "\n",
    "DRF=np.genfromtxt('../Processing/DRF_Unshielded.csv',delimiter=',')\n",
    "DRF_energies=np.genfromtxt('../Processing/DRF_Unshielded_energies.csv',delimiter=',')\n",
    "DRF_bins=np.genfromtxt('../Processing/DRF_energy_bins.csv',delimiter=',')\n",
    "\n"
   ]
  },
  {
   "cell_type": "code",
   "execution_count": 3,
   "metadata": {
    "collapsed": false
   },
   "outputs": [],
   "source": [
    "spec = np.empty(1024)\n",
    "\n",
    "\n",
    "file_name = \"200sDECAYTEST000_CoCs.Spe\"\n",
    "with open(file_name) as f:\n",
    "\n",
    "    \n",
    "    # read each spectra into a temp file, total of 1024 channels in this spectra\n",
    "    content = f.readlines() # read all of the .Spe file into contnet \n",
    "    for i in range(1024):\n",
    "        spec[i] = int(content[12+i]) # spectra begins at index 12, int to convert string in .Spe to int\n",
    "\n"
   ]
  },
  {
   "cell_type": "code",
   "execution_count": 4,
   "metadata": {
    "collapsed": false
   },
   "outputs": [
    {
     "data": {
      "text/plain": [
       "0.6069896624999999"
      ]
     },
     "execution_count": 4,
     "metadata": {},
     "output_type": "execute_result"
    }
   ],
   "source": [
    "def peak_to_all(energy):\n",
    "    peak_to_all_ratio = 4.4177E-14*np.power(energy,4)-3.72588E-10*np.power(energy,3)+1.165366E-6*np.power(energy,2)-0.0016817*energy+1.2003106\n",
    "    if peak_to_all_ratio > 1:\n",
    "        peak_to_all_ratio=1\n",
    "\n",
    "    return peak_to_all_ratio\n",
    "\n",
    "peak_to_all(500)"
   ]
  },
  {
   "cell_type": "code",
   "execution_count": 5,
   "metadata": {
    "collapsed": false
   },
   "outputs": [
    {
     "data": {
      "image/png": "[encoded data removed]",
      "text/plain": [
       "<matplotlib.figure.Figure at 0x7f84be5cd950>"
      ]
     },
     "metadata": {},
     "output_type": "display_data"
    },
    {
     "name": "stdout",
     "output_type": "stream",
     "text": [
      "0.105525141444\n"
     ]
    }
   ],
   "source": [
    "isotope='Am241'\n",
    "iso_DRF,a=generate_isotope(isotope,DRF,DRF_energies)\n",
    "\n",
    "\n",
    "    \n",
    "# Plot\n",
    "x=DRF_bins*1000\n",
    "y=np.abs(iso_DRF)\n",
    "y[0:20]=0\n",
    "%matplotlib inline\n",
    "fig=plt.figure(figsize=(12,6))\n",
    "ax= fig.add_subplot(111)\n",
    "ax.plot(x,y)\n",
    "#ax.plot(y[0:100])\n",
    "ax.set_xlabel('Energy (keV)')\n",
    "ax.set_title('iso_DRF')\n",
    "plt.show()\n",
    "\n",
    "print a"
   ]
  },
  {
   "cell_type": "code",
   "execution_count": 6,
   "metadata": {
    "collapsed": false
   },
   "outputs": [
    {
     "data": {
      "text/plain": [
       "0.047624830106198127"
      ]
     },
     "execution_count": 6,
     "metadata": {},
     "output_type": "execute_result"
    }
   ],
   "source": [
    "detector_efficiency(1332)"
   ]
  },
  {
   "cell_type": "code",
   "execution_count": 7,
   "metadata": {
    "collapsed": false
   },
   "outputs": [
    {
     "data": {
      "text/plain": [
       "1.0724985488706171e-05"
      ]
     },
     "execution_count": 7,
     "metadata": {},
     "output_type": "execute_result"
    }
   ],
   "source": [
    "np.max(y[200:300])/np.max(y[0:100])"
   ]
  },
  {
   "cell_type": "code",
   "execution_count": 8,
   "metadata": {
    "collapsed": false
   },
   "outputs": [
    {
     "data": {
      "text/plain": [
       "(40, 1100)"
      ]
     },
     "execution_count": 8,
     "metadata": {},
     "output_type": "execute_result"
    },
    {
     "data": {
      "image/png": "[encoded data removed]",
      "text/plain": [
       "<matplotlib.figure.Figure at 0x7f8493dcf350>"
      ]
     },
     "metadata": {},
     "output_type": "display_data"
    }
   ],
   "source": [
    "\n",
    "zz =  1.27605*np.exp(-np.linspace(0,3000,1024)*0.0077)+0.04758\n",
    "plt.loglog(zz)\n",
    "plt.xlim([40,1100])"
   ]
  },
  {
   "cell_type": "code",
   "execution_count": null,
   "metadata": {
    "collapsed": false
   },
   "outputs": [],
   "source": []
  },
  {
   "cell_type": "code",
   "execution_count": 9,
   "metadata": {
    "collapsed": false
   },
   "outputs": [
    {
     "name": "stdout",
     "output_type": "stream",
     "text": [
      "1 0.0024 0.08\n",
      "1 0.00111 0.08\n",
      "1 0.067 0.08\n",
      "1 0.065 0.08\n",
      "1 0.0091 0.08\n",
      "1 0.356 0.08\n",
      "1 0.657 0.08\n",
      "1 0.18 0.08\n",
      "1 0.0439 0.08\n",
      "1 0.0217 0.2\n",
      "1 0.0318 0.2\n",
      "1 0.342 0.2\n",
      "0.958771818721 0.006 0.418096118343\n",
      "0.87892971091 0.0046 0.276317863747\n",
      "0.816922795629 0.0709 0.199497414585\n",
      "0.787914174673 0.184 0.171492038641\n",
      "0.733219351258 0.622 0.129876810147\n",
      "0.706391192699 0.0892 0.113996727709\n"
     ]
    }
   ],
   "source": [
    "def peak_to_all(energy):\n",
    "        peak_to_all_ratio = 4.4177E-14*np.power(energy,4)-3.72588E-10*np.power(energy,3)+1.165366E-6*np.power(energy,2)-0.0016817*energy+1.2003106\n",
    "        if peak_to_all_ratio > 1:\n",
    "            peak_to_all_ratio=1\n",
    "    \n",
    "        return peak_to_all_ratio\n",
    "        \n",
    "        \n",
    "    \n",
    "    \n",
    "    \n",
    "\n",
    "isotope_path='Isotopes/'+'Ba133'+'.csv'\n",
    "raw_iso=np.genfromtxt(isotope_path,delimiter=',')\n",
    "\n",
    "iso_en=raw_iso[:,-3]/1000.\n",
    "iso_BR=raw_iso[:,-1]\n",
    "iso_DRF=np.zeros(1026)\n",
    "\n",
    "counts_in_peak = 0\n",
    "\n",
    "for i in range(iso_en.size):\n",
    "    energy=iso_en[i]\n",
    "    BR=iso_BR[i]\n",
    "    eff=detector_efficiency(energy*1000)\n",
    "    print peak_to_all(energy*1000),BR/100.0,eff\n",
    "    iso_DRF=iso_DRF+get_DRF(energy,DRF_energies,DRF)*BR*eff\n",
    "\n",
    "    counts_in_peak += (BR/100.0)*eff*peak_to_all(energy*1000)\n",
    "\n",
    "\n",
    "\n",
    "# SET THE LLD\n",
    "iso_DRF[0:10]=0\n"
   ]
  },
  {
   "cell_type": "code",
   "execution_count": 10,
   "metadata": {
    "collapsed": false
   },
   "outputs": [
    {
     "data": {
      "text/plain": [
       "0.29597512708498974"
      ]
     },
     "execution_count": 10,
     "metadata": {},
     "output_type": "execute_result"
    }
   ],
   "source": [
    "counts_in_peak"
   ]
  },
  {
   "cell_type": "code",
   "execution_count": null,
   "metadata": {
    "collapsed": true
   },
   "outputs": [],
   "source": []
  },
  {
   "cell_type": "code",
   "execution_count": null,
   "metadata": {
    "collapsed": true
   },
   "outputs": [],
   "source": []
  },
  {
   "cell_type": "code",
   "execution_count": null,
   "metadata": {
    "collapsed": true
   },
   "outputs": [],
   "source": []
  },
  {
   "cell_type": "code",
   "execution_count": null,
   "metadata": {
    "collapsed": false
   },
   "outputs": [],
   "source": []
  },
  {
   "cell_type": "code",
   "execution_count": 11,
   "metadata": {
    "collapsed": false
   },
   "outputs": [
    {
     "data": {
      "text/plain": [
       "1.4199581460195651e-09"
      ]
     },
     "execution_count": 11,
     "metadata": {},
     "output_type": "execute_result"
    },
    {
     "data": {
      "image/png": "[encoded data removed]",
      "text/plain": [
       "<matplotlib.figure.Figure at 0x7f8496c72a90>"
      ]
     },
     "metadata": {},
     "output_type": "display_data"
    }
   ],
   "source": [
    "plt.plot(y)\n",
    "plt.xlim([300,600])\n",
    "\n",
    "np.sum(y[350:500])/np.sum(y)"
   ]
  },
  {
   "cell_type": "code",
   "execution_count": 12,
   "metadata": {
    "collapsed": false
   },
   "outputs": [
    {
     "data": {
      "text/plain": [
       "(100, 200)"
      ]
     },
     "execution_count": 12,
     "metadata": {},
     "output_type": "execute_result"
    },
    {
     "data": {
      "image/png": "[encoded data removed]",
      "text/plain": [
       "<matplotlib.figure.Figure at 0x7f8493ddc490>"
      ]
     },
     "metadata": {},
     "output_type": "display_data"
    }
   ],
   "source": [
    "iso_DRF = get_DRF(450.0/1000.0,DRF_energies,DRF)\n",
    "iso_DRF[0:10]=0\n",
    "plt.plot(iso_DRF)\n",
    "plt.xlim([100,200])\n",
    "\n"
   ]
  },
  {
   "cell_type": "code",
   "execution_count": 13,
   "metadata": {
    "collapsed": false
   },
   "outputs": [
    {
     "name": "stdout",
     "output_type": "stream",
     "text": [
      "0.644536809385\n"
     ]
    }
   ],
   "source": [
    "\n",
    "peak = np.sum(iso_DRF[130:180])\n",
    "all_spec = np.sum(iso_DRF)\n",
    "\n",
    "peak_to_total = peak/(all_spec)\n",
    "print peak_to_total"
   ]
  },
  {
   "cell_type": "code",
   "execution_count": 14,
   "metadata": {
    "collapsed": false
   },
   "outputs": [],
   "source": [
    "def peak_to_all(energy):\n",
    "    peak_to_all_ratio = 4.4177E-14*np.power(energy,4)-3.72588E-10*np.power(energy,3)+1.165366E-6*np.power(energy,2)-0.0016817*energy+1.2003106\n",
    "    if peak_to_all_ratio > 1:\n",
    "        peak_to_all_ratio=1\n",
    "    \n",
    "    return peak_to_all_ratio\n",
    "        \n",
    "        \n",
    "    "
   ]
  },
  {
   "cell_type": "code",
   "execution_count": 15,
   "metadata": {
    "collapsed": false
   },
   "outputs": [
    {
     "data": {
      "text/plain": [
       "0.6473916666062499"
      ]
     },
     "execution_count": 15,
     "metadata": {},
     "output_type": "execute_result"
    }
   ],
   "source": [
    "peak_to_all(450)"
   ]
  },
  {
   "cell_type": "code",
   "execution_count": 16,
   "metadata": {
    "collapsed": false
   },
   "outputs": [],
   "source": [
    "Test_Eu500s = np.empty(1024)\n",
    "\n",
    "file_name = \"Eu152_500s000.Spe\"\n",
    "with open(file_name) as f:\n",
    "\n",
    "    # read each spectra into a temp file, total of 1024 channels in this spectra\n",
    "    content = f.readlines() # read all of the .Spe file into contnet \n",
    "    for i in range(1024):\n",
    "        Test_Eu500s[i] = int(content[12+i]) # spectra begins at index 12, int to convert string in .Spe to int\n"
   ]
  },
  {
   "cell_type": "code",
   "execution_count": 17,
   "metadata": {
    "collapsed": false
   },
   "outputs": [],
   "source": [
    "Test_Ra500s = np.empty(1024)\n",
    "\n",
    "file_name = \"Ra_500s000.Spe\"\n",
    "with open(file_name) as f:\n",
    "\n",
    "    # read each spectra into a temp file, total of 1024 channels in this spectra\n",
    "    content = f.readlines() # read all of the .Spe file into contnet \n",
    "    for i in range(1024):\n",
    "        Test_Ra500s[i] = int(content[12+i]) # spectra begins at index 12, int to convert string in .Spe to int\n"
   ]
  },
  {
   "cell_type": "code",
   "execution_count": null,
   "metadata": {
    "collapsed": false
   },
   "outputs": [],
   "source": []
  },
  {
   "cell_type": "code",
   "execution_count": 18,
   "metadata": {
    "collapsed": false
   },
   "outputs": [],
   "source": [
    "Test_Ba500s = np.empty(1024)\n",
    "\n",
    "file_name = \"Ba133_500s000.Spe\"\n",
    "with open(file_name) as f:\n",
    "\n",
    "    # read each spectra into a temp file, total of 1024 channels in this spectra\n",
    "    content = f.readlines() # read all of the .Spe file into contnet \n",
    "    for i in range(1024):\n",
    "        Test_Ba500s[i] = int(content[12+i]) # spectra begins at index 12, int to convert string in .Spe to int\n",
    "                            "
   ]
  },
  {
   "cell_type": "code",
   "execution_count": null,
   "metadata": {
    "collapsed": false
   },
   "outputs": [],
   "source": []
  },
  {
   "cell_type": "code",
   "execution_count": null,
   "metadata": {
    "collapsed": false
   },
   "outputs": [],
   "source": []
  },
  {
   "cell_type": "code",
   "execution_count": 19,
   "metadata": {
    "collapsed": false
   },
   "outputs": [
    {
     "name": "stderr",
     "output_type": "stream",
     "text": [
      "/home/ubuntu/anaconda2/lib/python2.7/site-packages/scipy/ndimage/interpolation.py:549: UserWarning: From scipy 0.13.0, the output shape of zoom() is calculated with round() instead of int() - for these inputs the size of the returned array has changed.\n",
      "  \"the returned array has changed.\", UserWarning)\n"
     ]
    },
    {
     "data": {
      "text/plain": [
       "[<matplotlib.lines.Line2D at 0x7f8496c72b50>]"
      ]
     },
     "execution_count": 19,
     "metadata": {},
     "output_type": "execute_result"
    },
    {
     "data": {
      "image/png": "[encoded data removed]",
      "text/plain": [
       "<matplotlib.figure.Figure at 0x7f8493dc0250>"
      ]
     },
     "metadata": {},
     "output_type": "display_data"
    }
   ],
   "source": [
    "ugh = zoom(iso_DRF,1.87)\n",
    "plt.plot(ugh,'r')\n",
    "plt.plot(iso_DRF)"
   ]
  },
  {
   "cell_type": "code",
   "execution_count": null,
   "metadata": {
    "collapsed": false
   },
   "outputs": [],
   "source": []
  },
  {
   "cell_type": "code",
   "execution_count": null,
   "metadata": {
    "collapsed": false
   },
   "outputs": [],
   "source": []
  },
  {
   "cell_type": "code",
   "execution_count": null,
   "metadata": {
    "collapsed": false
   },
   "outputs": [],
   "source": []
  },
  {
   "cell_type": "code",
   "execution_count": null,
   "metadata": {
    "collapsed": false
   },
   "outputs": [],
   "source": []
  },
  {
   "cell_type": "code",
   "execution_count": 20,
   "metadata": {
    "collapsed": false
   },
   "outputs": [
    {
     "data": {
      "text/plain": [
       "59682.0"
      ]
     },
     "execution_count": 20,
     "metadata": {},
     "output_type": "execute_result"
    }
   ],
   "source": [
    "np.sum(spec)"
   ]
  },
  {
   "cell_type": "code",
   "execution_count": 21,
   "metadata": {
    "collapsed": false
   },
   "outputs": [],
   "source": [
    "iso_DRF_0=generate_isotope('Am241',DRF,DRF_energies)\n",
    "iso_DRF_1=generate_isotope('Ba133',DRF,DRF_energies)\n",
    "iso_DRF_2=generate_isotope('Co60',DRF,DRF_energies)\n",
    "iso_DRF_3=generate_isotope('Cs137',DRF,DRF_energies)\n",
    "iso_DRF_4=generate_isotope('Eu152',DRF,DRF_energies)\n",
    "iso_DRF_5=generate_isotope('K40',DRF,DRF_energies)\n",
    "iso_DRF_6=generate_isotope('Ra226',DRF,DRF_energies)\n"
   ]
  },
  {
   "cell_type": "code",
   "execution_count": null,
   "metadata": {
    "collapsed": false
   },
   "outputs": [],
   "source": []
  },
  {
   "cell_type": "code",
   "execution_count": 22,
   "metadata": {
    "collapsed": false
   },
   "outputs": [
    {
     "data": {
      "text/plain": [
       "(0, 100)"
      ]
     },
     "execution_count": 22,
     "metadata": {},
     "output_type": "execute_result"
    },
    {
     "data": {
      "image/png": "[encoded data removed]",
      "text/plain": [
       "<matplotlib.figure.Figure at 0x7f8491725c90>"
      ]
     },
     "metadata": {},
     "output_type": "display_data"
    }
   ],
   "source": [
    "spec_Ra_test =np.abs(zoom(sample_spectrum(iso_DRF_6[0],10000)[2:],0.90))\n",
    "\n",
    "plt.plot((Test_Ra500s/np.max(Test_Ra500s[0:]))[0:],'r')\n",
    "\n",
    "plt.plot((spec_Ra_test/np.max(spec_Ra_test))[0:])\n",
    "plt.xlim([0,100])"
   ]
  },
  {
   "cell_type": "code",
   "execution_count": 23,
   "metadata": {
    "collapsed": false
   },
   "outputs": [
    {
     "data": {
      "text/plain": [
       "170.87"
      ]
     },
     "execution_count": 23,
     "metadata": {},
     "output_type": "execute_result"
    }
   ],
   "source": [
    "x[60]"
   ]
  },
  {
   "cell_type": "code",
   "execution_count": 24,
   "metadata": {
    "collapsed": false
   },
   "outputs": [
    {
     "data": {
      "text/plain": [
       "[<matplotlib.lines.Line2D at 0x7f8493b9e2d0>]"
      ]
     },
     "execution_count": 24,
     "metadata": {},
     "output_type": "execute_result"
    },
    {
     "data": {
      "image/png": "[encoded data removed]",
      "text/plain": [
       "<matplotlib.figure.Figure at 0x7f8490ac2890>"
      ]
     },
     "metadata": {},
     "output_type": "display_data"
    }
   ],
   "source": [
    "spec_Eu_test =np.abs(zoom(sample_spectrum(iso_DRF_4[0],100000)[2:],0.94))\n",
    "\n",
    "plt.plot((Test_Eu500s/np.max(Test_Eu500s))[0:400],'r')\n",
    "\n",
    "plt.plot((spec_Eu_test/np.max(spec_Eu_test))[0:400])\n",
    "\n",
    "#plt.ylim([1E-5,1E1])"
   ]
  },
  {
   "cell_type": "code",
   "execution_count": 25,
   "metadata": {
    "collapsed": false
   },
   "outputs": [
    {
     "data": {
      "text/plain": [
       "[<matplotlib.lines.Line2D at 0x7f8493dcf5d0>]"
      ]
     },
     "execution_count": 25,
     "metadata": {},
     "output_type": "execute_result"
    },
    {
     "data": {
      "image/png": "[encoded data removed]",
      "text/plain": [
       "<matplotlib.figure.Figure at 0x7f8493dcf9d0>"
      ]
     },
     "metadata": {},
     "output_type": "display_data"
    }
   ],
   "source": [
    "spec_Ba133_test =np.abs(zoom(sample_spectrum(iso_DRF_1[0],10000)[2:],0.90))\n",
    "\n",
    "plt.plot((Test_Ba500s/np.max(Test_Ba500s))[0:200],'r')\n",
    "\n",
    "plt.plot((spec_Ba133_test/np.max(spec_Ba133_test))[0:200])\n"
   ]
  },
  {
   "cell_type": "code",
   "execution_count": 26,
   "metadata": {
    "collapsed": false
   },
   "outputs": [
    {
     "data": {
      "text/plain": [
       "0.2864453248913452"
      ]
     },
     "execution_count": 26,
     "metadata": {},
     "output_type": "execute_result"
    }
   ],
   "source": [
    "peak_to_all(1332)"
   ]
  },
  {
   "cell_type": "code",
   "execution_count": 27,
   "metadata": {
    "collapsed": false
   },
   "outputs": [
    {
     "data": {
      "text/plain": [
       "(300, 500)"
      ]
     },
     "execution_count": 27,
     "metadata": {},
     "output_type": "execute_result"
    },
    {
     "data": {
      "image/png": "[encoded data removed]",
      "text/plain": [
       "<matplotlib.figure.Figure at 0x7f8490970350>"
      ]
     },
     "metadata": {},
     "output_type": "display_data"
    }
   ],
   "source": [
    "spec_Co60 =sample_spectrum(iso_DRF_2[0],100000)[2:]\n",
    "\n",
    "plt.plot(spec_Co60)\n",
    "plt.xlim([300,500])"
   ]
  },
  {
   "cell_type": "code",
   "execution_count": 28,
   "metadata": {
    "collapsed": false
   },
   "outputs": [
    {
     "data": {
      "text/plain": [
       "0.33011000000000001"
      ]
     },
     "execution_count": 28,
     "metadata": {},
     "output_type": "execute_result"
    }
   ],
   "source": [
    "np.sum(spec_Co60[375:500])/np.sum(spec_Co60)"
   ]
  },
  {
   "cell_type": "code",
   "execution_count": null,
   "metadata": {
    "collapsed": false
   },
   "outputs": [],
   "source": []
  },
  {
   "cell_type": "code",
   "execution_count": null,
   "metadata": {
    "collapsed": false
   },
   "outputs": [],
   "source": []
  },
  {
   "cell_type": "code",
   "execution_count": 29,
   "metadata": {
    "collapsed": false
   },
   "outputs": [],
   "source": [
    "def results(res):\n",
    "    print 'Am241: %s' %res[0] \n",
    "    print 'Ba133: %s' %res[1] \n",
    "    print 'Co57: %s'  %res[2] \n",
    "    print 'Co60: %s'  %res[3] \n",
    "    print 'Cr51: %s'  %res[4] \n",
    "    print 'Cs137: %s' %res[5] \n",
    "    print 'Eu152: %s' %res[6] \n",
    "    print 'Ga67: %s' %res[7] \n",
    "    print 'I123: %s' %res[8] \n",
    "    print 'I125: %s'  %res[9]\n",
    "    \n",
    "    print 'I131: %s' %res[10] \n",
    "    print 'In111: %s' %res[11] \n",
    "    print 'Ir192: %s'  %res[12] \n",
    "    print 'K40: %s'  %res[13] \n",
    "    print 'Lu177m: %s'  %res[14] \n",
    "    print 'Mo99: %s' %res[15] \n",
    "    print 'Np237: %s' %res[16] \n",
    "    print 'Pd103: %s' %res[17] \n",
    "    print 'Pu239: %s' %res[18] \n",
    "    print 'Pu240: %s'  %res[19]\n",
    "    \n",
    "    print 'Ra226: %s' %res[20] \n",
    "    print 'Se75: %s' %res[21] \n",
    "    print 'Sm153: %s'  %res[22] \n",
    "    print 'Sr89: %s'  %res[23] \n",
    "    print 'Tc99m: %s'  %res[24] \n",
    "    print 'Th232: %s' %res[25] \n",
    "    print 'Tl201: %s' %res[26] \n",
    "    print 'Tl204: %s' %res[27] \n",
    "    print 'U233: %s' %res[28] \n",
    "    print 'U235: %s'  %res[29]\n",
    "    \n",
    "    print 'U238: %s' %res[30] \n",
    "    print 'Xe133: %s'  %res[31]\n",
    "    \n",
    "\n",
    "\n"
   ]
  },
  {
   "cell_type": "code",
   "execution_count": null,
   "metadata": {
    "collapsed": true
   },
   "outputs": [],
   "source": []
  },
  {
   "cell_type": "code",
   "execution_count": null,
   "metadata": {
    "collapsed": true
   },
   "outputs": [],
   "source": []
  },
  {
   "cell_type": "code",
   "execution_count": null,
   "metadata": {
    "collapsed": true
   },
   "outputs": [],
   "source": []
  },
  {
   "cell_type": "code",
   "execution_count": null,
   "metadata": {
    "collapsed": true
   },
   "outputs": [],
   "source": []
  },
  {
   "cell_type": "code",
   "execution_count": null,
   "metadata": {
    "collapsed": false
   },
   "outputs": [],
   "source": []
  },
  {
   "cell_type": "code",
   "execution_count": null,
   "metadata": {
    "collapsed": false
   },
   "outputs": [],
   "source": []
  },
  {
   "cell_type": "code",
   "execution_count": null,
   "metadata": {
    "collapsed": false
   },
   "outputs": [],
   "source": []
  },
  {
   "cell_type": "code",
   "execution_count": null,
   "metadata": {
    "collapsed": false
   },
   "outputs": [],
   "source": []
  },
  {
   "cell_type": "code",
   "execution_count": null,
   "metadata": {
    "collapsed": false
   },
   "outputs": [],
   "source": []
  },
  {
   "cell_type": "code",
   "execution_count": 37,
   "metadata": {
    "collapsed": false
   },
   "outputs": [
    {
     "data": {
      "text/plain": [
       "27.0"
      ]
     },
     "execution_count": 37,
     "metadata": {},
     "output_type": "execute_result"
    }
   ],
   "source": [
    "np.max(sample_spectrum(iso_DRF_0[0],50))"
   ]
  },
  {
   "cell_type": "code",
   "execution_count": null,
   "metadata": {
    "collapsed": false
   },
   "outputs": [],
   "source": []
  },
  {
   "cell_type": "code",
   "execution_count": null,
   "metadata": {
    "collapsed": false
   },
   "outputs": [],
   "source": []
  },
  {
   "cell_type": "code",
   "execution_count": null,
   "metadata": {
    "collapsed": false
   },
   "outputs": [],
   "source": []
  },
  {
   "cell_type": "code",
   "execution_count": 30,
   "metadata": {
    "collapsed": false
   },
   "outputs": [
    {
     "data": {
      "image/png": "[encoded data removed]",
      "text/plain": [
       "<matplotlib.figure.Figure at 0x7f8493b0a850>"
      ]
     },
     "metadata": {},
     "output_type": "display_data"
    }
   ],
   "source": [
    "spec_Back3 = np.empty(1024)\n",
    "file_name = \"120sDECAYTEST001.Spe\"\n",
    "with open(file_name) as f:\n",
    "\n",
    "    # read each spectra into a temp file, total of 1024 channels in this spectra\n",
    "    content = f.readlines() # read all of the .Spe file into contnet \n",
    "    for i in range(1024):\n",
    "        spec_Back3[i] = int(content[12+i]) # spectra begins at index 12, int to convert string in .Spe to int\n",
    "        \n",
    "spec_Back4 = np.empty(1024)\n",
    "file_name = \"120sDECAYTEST002.Spe\"\n",
    "with open(file_name) as f:\n",
    "\n",
    "    # read each spectra into a temp file, total of 1024 channels in this spectra\n",
    "    content = f.readlines() # read all of the .Spe file into contnet \n",
    "    for i in range(1024):\n",
    "        spec_Back4[i] = int(content[12+i]) # spectra begins at index 12, int to convert string in .Spe to int\n",
    "        \n",
    "spec_Back5 = np.empty(1024)\n",
    "file_name = \"120sDECAYTEST003.Spe\"\n",
    "with open(file_name) as f:\n",
    "\n",
    "    # read each spectra into a temp file, total of 1024 channels in this spectra\n",
    "    content = f.readlines() # read all of the .Spe file into contnet \n",
    "    for i in range(1024):\n",
    "        spec_Back5[i] = int(content[12+i]) # spectra begins at index 12, int to convert string in .Spe to int\n",
    "        \n",
    "        \n",
    "\n",
    "spec_Back2 = np.empty(1024)\n",
    "file_name = \"120sDECAYTEST000.Spe\"\n",
    "with open(file_name) as f:\n",
    "\n",
    "    # read each spectra into a temp file, total of 1024 channels in this spectra\n",
    "    content = f.readlines() # read all of the .Spe file into contnet \n",
    "    for i in range(1024):\n",
    "        spec_Back2[i] = int(content[12+i]) # spectra begins at index 12, int to convert string in .Spe to int\n",
    "plt.plot(spec_Back2/np.max(spec_Back2))\n",
    "plt.xlabel('channel')\n",
    "plt.ylabel('Intensity')\n",
    "\n",
    "\n",
    "BERP_unshielded_119cm_300s = np.empty(1024)\n",
    "file_name = \"BERP_unshielded_119cm_300s.Spe\"\n",
    "with open(file_name) as f:\n",
    "\n",
    "    # read each spectra into a temp file, total of 1024 channels in this spectra\n",
    "    content = f.readlines() # read all of the .Spe file into contnet \n",
    "    for i in range(1024):\n",
    "        BERP_unshielded_119cm_300s[i] = int(content[12+i]) # spectra begins at index 12, int to convert string in .Spe to int\n",
    "\n",
    "\n"
   ]
  },
  {
   "cell_type": "code",
   "execution_count": 31,
   "metadata": {
    "collapsed": false
   },
   "outputs": [
    {
     "name": "stdout",
     "output_type": "stream",
     "text": [
      "30110.0\n"
     ]
    }
   ],
   "source": [
    "print np.sum(spec_Back2+spec_Back3+spec_Back4+spec_Back5)"
   ]
  },
  {
   "cell_type": "code",
   "execution_count": 32,
   "metadata": {
    "collapsed": false
   },
   "outputs": [
    {
     "data": {
      "text/plain": [
       "<matplotlib.text.Text at 0x7f849079ad90>"
      ]
     },
     "execution_count": 32,
     "metadata": {},
     "output_type": "execute_result"
    },
    {
     "data": {
      "image/png": "[encoded data removed]",
      "text/plain": [
       "<matplotlib.figure.Figure at 0x7f84907e67d0>"
      ]
     },
     "metadata": {},
     "output_type": "display_data"
    }
   ],
   "source": [
    "spec_Back = np.empty(1024)\n",
    "file_name = \"Background_long.Spe\"\n",
    "with open(file_name) as f:\n",
    "\n",
    "    # read each spectra into a temp file, total of 1024 channels in this spectra\n",
    "    content = f.readlines() # read all of the .Spe file into contnet \n",
    "    for i in range(1024):\n",
    "        spec_Back[i] = int(content[12+i]) # spectra begins at index 12, int to convert string in .Spe to int\n",
    "plt.plot(spec_Back/np.max(spec_Back))\n",
    "plt.xlabel('channel')\n",
    "plt.ylabel('Intensity')\n"
   ]
  },
  {
   "cell_type": "code",
   "execution_count": 33,
   "metadata": {
    "collapsed": false
   },
   "outputs": [
    {
     "data": {
      "text/plain": [
       "<matplotlib.text.Text at 0x7f84905ebed0>"
      ]
     },
     "execution_count": 33,
     "metadata": {},
     "output_type": "execute_result"
    },
    {
     "data": {
      "image/png": "[encoded data removed]",
      "text/plain": [
       "<matplotlib.figure.Figure at 0x7f84907f7810>"
      ]
     },
     "metadata": {},
     "output_type": "display_data"
    }
   ],
   "source": [
    "\n",
    "plt.semilogy(spec_Back/np.max(spec_Back),'g')\n",
    "plt.semilogy(Test_Ba500s/np.max(Test_Ba500s))\n",
    "plt.xlabel('channel')\n",
    "plt.ylabel('Intensity')\n"
   ]
  },
  {
   "cell_type": "code",
   "execution_count": 34,
   "metadata": {
    "collapsed": false
   },
   "outputs": [],
   "source": [
    "spec_CoCs1 = np.empty(1024)\n",
    "\n",
    "file_name = \"CoCs1.Spe\"\n",
    "with open(file_name) as f:\n",
    "\n",
    "    # read each spectra into a temp file, total of 1024 channels in this spectra\n",
    "    content = f.readlines() # read all of the .Spe file into contnet \n",
    "    for i in range(1024):\n",
    "        spec_CoCs1[i] = int(content[12+i]) # spectra begins at index 12, int to convert string in .Spe to int\n"
   ]
  },
  {
   "cell_type": "code",
   "execution_count": 35,
   "metadata": {
    "collapsed": false
   },
   "outputs": [
    {
     "data": {
      "text/plain": [
       "0.2332555814728424"
      ]
     },
     "execution_count": 35,
     "metadata": {},
     "output_type": "execute_result"
    }
   ],
   "source": [
    "7000.0/30010"
   ]
  },
  {
   "cell_type": "code",
   "execution_count": 69,
   "metadata": {
    "collapsed": false
   },
   "outputs": [
    {
     "name": "stdout",
     "output_type": "stream",
     "text": [
      "CPS background\n",
      "63.1666666667\n",
      "\n",
      "\n",
      "CPS CoCs\n",
      "298.41\n",
      "\n",
      "\n",
      "117.621666667\n"
     ]
    }
   ],
   "source": [
    "print('CPS background')\n",
    "print np.sum(spec_Back5)/120.0\n",
    "print '\\n'\n",
    "\n",
    "# spec is 200s CoCs equal mix\n",
    "print ('CPS CoCs')\n",
    "print np.sum(spec)/200.0\n",
    "print '\\n'\n",
    "\n",
    "print (np.sum(spec)/200.0 - np.sum(spec_Back5)/120.0)/2.0\n"
   ]
  },
  {
   "cell_type": "code",
   "execution_count": 54,
   "metadata": {
    "collapsed": false
   },
   "outputs": [
    {
     "data": {
      "text/plain": [
       "[<matplotlib.lines.Line2D at 0x7f848ff4c350>]"
      ]
     },
     "execution_count": 54,
     "metadata": {},
     "output_type": "execute_result"
    },
    {
     "data": {
      "image/png": "[encoded data removed]",
      "text/plain": [
       "<matplotlib.figure.Figure at 0x7f8490019510>"
      ]
     },
     "metadata": {},
     "output_type": "display_data"
    },
    {
     "data": {
      "image/png": "[encoded data removed]",
      "text/plain": [
       "<matplotlib.figure.Figure at 0x7f848fe4e190>"
      ]
     },
     "metadata": {},
     "output_type": "display_data"
    }
   ],
   "source": [
    "spec_Back_long = spec_Back2+spec_Back3+spec_Back4+spec_Back5\n",
    "\n",
    "spec_Back1_sampled =sample_spectrum(spec_Back/np.max(spec_Back),25000)\n",
    "spec_CoCs_sampled = np.abs(zoom(sample_spectrum(iso_DRF_2[0],20400)[2:]+sample_spectrum(iso_DRF_3[0],20400)[2:],0.87) )\n",
    "spec_CoCs_sampled = np.lib.pad(spec_CoCs_sampled, (0,1024-spec_CoCs_sampled.shape[0]), 'constant', constant_values=0).astype(int)\n",
    "\n",
    "\n",
    "spec_Back_sampled =sample_spectrum(spec_Back/np.max(spec_Back),5.0/2.0*25000.0)\n",
    "spec_Ba_sampled = np.abs(zoom(sample_spectrum(iso_DRF_1[0],50000)[2:],0.90) )\n",
    "spec_Ba_sampled = np.lib.pad(spec_Ba_sampled, (0,1024-spec_Ba_sampled.shape[0]), 'constant', constant_values=0).astype(int)\n",
    "\n",
    "spec_CoCs_sampled[0:30]=0\n",
    "\n",
    "plt.plot((spec_Back1_sampled+spec_CoCs_sampled),'r')\n",
    "plt.plot(spec)\n",
    "#plt.plot(spec_CoCs1)\n",
    "plt.xlim([150,450])\n",
    "#plt.ylim([0,100])\n",
    "\n",
    "plt.figure()\n",
    "plt.plot((spec_Back_sampled+spec_Ba_sampled)[0:200],'r')\n",
    "plt.plot(Test_Ba500s[0:200])"
   ]
  },
  {
   "cell_type": "code",
   "execution_count": 37,
   "metadata": {
    "collapsed": false
   },
   "outputs": [
    {
     "data": {
      "text/plain": [
       "17796.0"
      ]
     },
     "execution_count": 37,
     "metadata": {},
     "output_type": "execute_result"
    },
    {
     "data": {
      "image/png": "[encoded data removed]",
      "text/plain": [
       "<matplotlib.figure.Figure at 0x7f84905a9c90>"
      ]
     },
     "metadata": {},
     "output_type": "display_data"
    }
   ],
   "source": [
    "qq = sample_spectrum(iso_DRF_3[0],20000)\n",
    "\n",
    "plt.plot(qq)\n",
    "\n",
    "np.sum(qq[30:])"
   ]
  },
  {
   "cell_type": "code",
   "execution_count": 94,
   "metadata": {
    "collapsed": false
   },
   "outputs": [
    {
     "data": {
      "text/plain": [
       "(0, 500)"
      ]
     },
     "execution_count": 94,
     "metadata": {},
     "output_type": "execute_result"
    },
    {
     "data": {
      "image/png": "[encoded data removed]",
      "text/plain": [
       "<matplotlib.figure.Figure at 0x7f4923189610>"
      ]
     },
     "metadata": {},
     "output_type": "display_data"
    }
   ],
   "source": [
    "spec_Back_sampled =sample_spectrum(spec_Back/np.max(spec_Back),5.0/2.0*1.0)\n",
    "spec_Eu_sampled = np.abs(zoom(sample_spectrum(iso_DRF_18[0],45000)[2:],0.91) )\n",
    "spec_Eu_sampled = np.lib.pad(spec_Eu_sampled, (0,1024-spec_Eu_sampled.shape[0]), 'constant', constant_values=0).astype(int)\n",
    "\n",
    "\n",
    "\n",
    "plt.plot((spec_Back1_sampled+spec_Eu_sampled)/np.max(spec_Back1_sampled+spec_Eu_sampled),'r')\n",
    "plt.plot(BERP_unshielded_119cm_300s/np.max(BERP_unshielded_119cm_300s))\n",
    "plt.xlim(0,500)"
   ]
  },
  {
   "cell_type": "code",
   "execution_count": 37,
   "metadata": {
    "collapsed": false
   },
   "outputs": [
    {
     "ename": "NameError",
     "evalue": "name 'spec_Back1_sampled' is not defined",
     "output_type": "error",
     "traceback": [
      "\u001b[1;31m---------------------------------------------------------------------------\u001b[0m",
      "\u001b[1;31mNameError\u001b[0m                                 Traceback (most recent call last)",
      "\u001b[1;32m<ipython-input-37-74af32d3e71d>\u001b[0m in \u001b[0;36m<module>\u001b[1;34m()\u001b[0m\n\u001b[0;32m      7\u001b[0m \u001b[1;33m\u001b[0m\u001b[0m\n\u001b[0;32m      8\u001b[0m \u001b[1;33m\u001b[0m\u001b[0m\n\u001b[1;32m----> 9\u001b[1;33m \u001b[0mplt\u001b[0m\u001b[1;33m.\u001b[0m\u001b[0mplot\u001b[0m\u001b[1;33m(\u001b[0m\u001b[0mspec_Back1_sampled\u001b[0m\u001b[1;33m[\u001b[0m\u001b[1;36m0\u001b[0m\u001b[1;33m:\u001b[0m\u001b[1;36m100\u001b[0m\u001b[1;33m]\u001b[0m\u001b[1;33m,\u001b[0m\u001b[1;34m'g'\u001b[0m\u001b[1;33m)\u001b[0m\u001b[1;33m\u001b[0m\u001b[0m\n\u001b[0m\u001b[0;32m     10\u001b[0m \u001b[0mplt\u001b[0m\u001b[1;33m.\u001b[0m\u001b[0mplot\u001b[0m\u001b[1;33m(\u001b[0m\u001b[1;33m(\u001b[0m\u001b[0mspec_Back1_sampled\u001b[0m\u001b[1;33m+\u001b[0m\u001b[0mspec_Ra_sampled\u001b[0m\u001b[1;33m)\u001b[0m\u001b[1;33m[\u001b[0m\u001b[1;36m0\u001b[0m\u001b[1;33m:\u001b[0m\u001b[1;36m100\u001b[0m\u001b[1;33m]\u001b[0m\u001b[1;33m,\u001b[0m\u001b[1;34m'r'\u001b[0m\u001b[1;33m)\u001b[0m\u001b[1;33m\u001b[0m\u001b[0m\n\u001b[0;32m     11\u001b[0m \u001b[0mplt\u001b[0m\u001b[1;33m.\u001b[0m\u001b[0mplot\u001b[0m\u001b[1;33m(\u001b[0m\u001b[0mTest_Ra500s\u001b[0m\u001b[1;33m[\u001b[0m\u001b[1;36m0\u001b[0m\u001b[1;33m:\u001b[0m\u001b[1;36m100\u001b[0m\u001b[1;33m]\u001b[0m\u001b[1;33m)\u001b[0m\u001b[1;33m\u001b[0m\u001b[0m\n",
      "\u001b[1;31mNameError\u001b[0m: name 'spec_Back1_sampled' is not defined"
     ]
    }
   ],
   "source": [
    "\n",
    "\n",
    "\n",
    "spec_Back_sampled =sample_spectrum(spec_Back/np.max(spec_Back),5.0/2.0*55000.0)\n",
    "spec_Ra_sampled = np.abs(zoom(sample_spectrum(iso_DRF_6[0],5000)[2:],0.86) )\n",
    "spec_Ra_sampled = np.lib.pad(spec_Ra_sampled, (0,1024-spec_Ra_sampled.shape[0]), 'constant', constant_values=0).astype(int)\n",
    "\n",
    "\n",
    "plt.plot(spec_Back1_sampled[0:100],'g')\n",
    "plt.plot((spec_Back1_sampled+spec_Ra_sampled)[0:100],'r')\n",
    "plt.plot(Test_Ra500s[0:100])\n"
   ]
  },
  {
   "cell_type": "code",
   "execution_count": 25,
   "metadata": {
    "collapsed": false
   },
   "outputs": [],
   "source": [
    "Background_measure_time = np.random.uniform(10,200) # measured in seconds\n",
    "\n",
    "DRF_perturb = np.random.uniform(0.82,0.94)\n",
    "back_perturb = np.random.uniform(1000,100000)\n",
    "\n",
    "\n",
    "\n",
    "\n",
    "spec_Back_sampled1 =sample_spectrum(spec_Back/np.max(spec_Back),125*500)"
   ]
  },
  {
   "cell_type": "code",
   "execution_count": 26,
   "metadata": {
    "collapsed": false
   },
   "outputs": [
    {
     "data": {
      "text/plain": [
       "[<matplotlib.lines.Line2D at 0x7f1545526310>]"
      ]
     },
     "execution_count": 26,
     "metadata": {},
     "output_type": "execute_result"
    },
    {
     "data": {
      "image/png": "[encoded data removed]",
      "text/plain": [
       "<matplotlib.figure.Figure at 0x7f1548bcea10>"
      ]
     },
     "metadata": {},
     "output_type": "display_data"
    }
   ],
   "source": [
    "plt.plot(spec_Back_sampled1)"
   ]
  },
  {
   "cell_type": "code",
   "execution_count": 36,
   "metadata": {
    "collapsed": false
   },
   "outputs": [
    {
     "name": "stdout",
     "output_type": "stream",
     "text": [
      "114214"
     ]
    },
    {
     "ename": "KeyboardInterrupt",
     "evalue": "",
     "output_type": "error",
     "traceback": [
      "\u001b[1;31m---------------------------------------------------------------------------\u001b[0m",
      "\u001b[1;31mKeyboardInterrupt\u001b[0m                         Traceback (most recent call last)",
      "\u001b[1;32m<ipython-input-36-7eb6eb0dfe86>\u001b[0m in \u001b[0;36m<module>\u001b[1;34m()\u001b[0m\n\u001b[0;32m      1\u001b[0m \u001b[0msamples\u001b[0m \u001b[1;33m=\u001b[0m \u001b[1;36m1000000\u001b[0m\u001b[1;33m\u001b[0m\u001b[0m\n\u001b[1;32m----> 2\u001b[1;33m \u001b[0mexecfile\u001b[0m\u001b[1;33m(\u001b[0m\u001b[1;34m'gen_rand_samples.py'\u001b[0m\u001b[1;33m)\u001b[0m\u001b[1;33m\u001b[0m\u001b[0m\n\u001b[0m",
      "\u001b[1;32m/home/ubuntu/Notebooks/gen_rand_samples.py\u001b[0m in \u001b[0;36m<module>\u001b[1;34m()\u001b[0m\n\u001b[0;32m     67\u001b[0m \u001b[1;33m\u001b[0m\u001b[0m\n\u001b[0;32m     68\u001b[0m \u001b[1;33m\u001b[0m\u001b[0m\n\u001b[1;32m---> 69\u001b[1;33m     \u001b[0mspec_Back_sampled\u001b[0m \u001b[1;33m=\u001b[0m\u001b[0msample_spectrum\u001b[0m\u001b[1;33m(\u001b[0m\u001b[0mspec_Back\u001b[0m\u001b[1;33m/\u001b[0m\u001b[0mnp\u001b[0m\u001b[1;33m.\u001b[0m\u001b[0mmax\u001b[0m\u001b[1;33m(\u001b[0m\u001b[0mspec_Back\u001b[0m\u001b[1;33m)\u001b[0m\u001b[1;33m,\u001b[0m\u001b[1;36m125\u001b[0m\u001b[1;33m*\u001b[0m\u001b[0mBackground_measure_time\u001b[0m\u001b[1;33m)\u001b[0m \u001b[1;31m#background is 125 cps\u001b[0m\u001b[1;33m\u001b[0m\u001b[0m\n\u001b[0m\u001b[0;32m     70\u001b[0m \u001b[1;33m\u001b[0m\u001b[0m\n\u001b[0;32m     71\u001b[0m \u001b[1;33m\u001b[0m\u001b[0m\n",
      "\u001b[1;32m/home/ubuntu/Notebooks/fun_sample_spectrum.pyc\u001b[0m in \u001b[0;36msample_spectrum\u001b[1;34m(iso_DRF, ncounts)\u001b[0m\n\u001b[0;32m     20\u001b[0m     \u001b[0mspec\u001b[0m\u001b[1;33m=\u001b[0m\u001b[0mpdf\u001b[0m\u001b[1;33m*\u001b[0m\u001b[1;36m0\u001b[0m\u001b[1;33m\u001b[0m\u001b[0m\n\u001b[0;32m     21\u001b[0m     \u001b[1;32mfor\u001b[0m \u001b[0mt\u001b[0m \u001b[1;32min\u001b[0m \u001b[0mt_all\u001b[0m\u001b[1;33m:\u001b[0m\u001b[1;33m\u001b[0m\u001b[0m\n\u001b[1;32m---> 22\u001b[1;33m         \u001b[0mpos\u001b[0m\u001b[1;33m=\u001b[0m\u001b[0mnp\u001b[0m\u001b[1;33m.\u001b[0m\u001b[0margmax\u001b[0m\u001b[1;33m(\u001b[0m\u001b[0mcdf\u001b[0m\u001b[1;33m>\u001b[0m\u001b[0mt\u001b[0m\u001b[1;33m)\u001b[0m\u001b[1;33m\u001b[0m\u001b[0m\n\u001b[0m\u001b[0;32m     23\u001b[0m         \u001b[0mspec\u001b[0m\u001b[1;33m[\u001b[0m\u001b[0mpos\u001b[0m\u001b[1;33m]\u001b[0m\u001b[1;33m=\u001b[0m\u001b[0mspec\u001b[0m\u001b[1;33m[\u001b[0m\u001b[0mpos\u001b[0m\u001b[1;33m]\u001b[0m\u001b[1;33m+\u001b[0m\u001b[1;36m1\u001b[0m\u001b[1;33m\u001b[0m\u001b[0m\n\u001b[0;32m     24\u001b[0m     \u001b[1;32mreturn\u001b[0m \u001b[0mspec\u001b[0m\u001b[1;33m\u001b[0m\u001b[0m\n",
      "\u001b[1;31mKeyboardInterrupt\u001b[0m: "
     ]
    }
   ],
   "source": [
    "samples = 1000000\n",
    "execfile('gen_rand_samples.py')"
   ]
  },
  {
   "cell_type": "code",
   "execution_count": 29,
   "metadata": {
    "collapsed": false
   },
   "outputs": [
    {
     "name": "stdout",
     "output_type": "stream",
     "text": [
      "Am241: 0.0\n",
      "Ba133: 0.0\n",
      "Co57: 0.0\n",
      "Co60: 0.0\n",
      "Cr51: 0.0\n",
      "Cs137: 0.0\n",
      "Eu152: 0.0\n",
      "Ga67: 0.0\n",
      "I123: 0.0\n",
      "I125: 0.0\n",
      "I131: 0.206496815287\n",
      "In111: 0.0\n",
      "Ir192: 0.0\n",
      "K40: 0.234012738854\n",
      "Lu177m: 0.0\n",
      "Mo99: 0.0\n",
      "Np237: 0.0\n",
      "Pd103: 0.0\n",
      "Pu239: 0.0\n",
      "Pu240: 0.0\n",
      "Ra226: 0.0\n",
      "Se75: 0.0\n",
      "Sm153: 0.0\n",
      "Sr89: 0.0\n",
      "Tc99m: 0.274777070064\n",
      "Th232: 0.0\n",
      "Tl201: 0.284713375796\n",
      "Tl204: 0.0\n",
      "U233: 0.0\n",
      "U235: 0.0\n",
      "U238: 0.0\n",
      "Xe133: 0.0\n"
     ]
    },
    {
     "data": {
      "image/png": "[encoded data removed]",
      "text/plain": [
       "<matplotlib.figure.Figure at 0x7ff3c114bcd0>"
      ]
     },
     "metadata": {},
     "output_type": "display_data"
    }
   ],
   "source": [
    "index = 12\n",
    "\n",
    "plt.plot(Train_spectra[index,0:])\n",
    "results(Train_spectra_key[index])\n",
    "\n",
    "\n"
   ]
  },
  {
   "cell_type": "code",
   "execution_count": null,
   "metadata": {
    "collapsed": false
   },
   "outputs": [],
   "source": []
  },
  {
   "cell_type": "code",
   "execution_count": null,
   "metadata": {
    "collapsed": false
   },
   "outputs": [],
   "source": [
    "\n",
    "\n"
   ]
  },
  {
   "cell_type": "code",
   "execution_count": null,
   "metadata": {
    "collapsed": false
   },
   "outputs": [],
   "source": []
  },
  {
   "cell_type": "code",
   "execution_count": null,
   "metadata": {
    "collapsed": false
   },
   "outputs": [],
   "source": []
  },
  {
   "cell_type": "code",
   "execution_count": null,
   "metadata": {
    "collapsed": true
   },
   "outputs": [],
   "source": []
  },
  {
   "cell_type": "code",
   "execution_count": null,
   "metadata": {
    "collapsed": true
   },
   "outputs": [],
   "source": []
  },
  {
   "cell_type": "code",
   "execution_count": null,
   "metadata": {
    "collapsed": true
   },
   "outputs": [],
   "source": []
  },
  {
   "cell_type": "code",
   "execution_count": null,
   "metadata": {
    "collapsed": true
   },
   "outputs": [],
   "source": []
  },
  {
   "cell_type": "code",
   "execution_count": 39,
   "metadata": {
    "collapsed": false
   },
   "outputs": [
    {
     "data": {
      "text/plain": [
       "(10000, 1024)"
      ]
     },
     "execution_count": 39,
     "metadata": {},
     "output_type": "execute_result"
    }
   ],
   "source": [
    "Train_spectra[0:10000].shape"
   ]
  },
  {
   "cell_type": "code",
   "execution_count": 70,
   "metadata": {
    "collapsed": false
   },
   "outputs": [
    {
     "data": {
      "text/plain": [
       "[<matplotlib.lines.Line2D at 0x7ff2996dd4d0>]"
      ]
     },
     "execution_count": 70,
     "metadata": {},
     "output_type": "execute_result"
    },
    {
     "data": {
      "image/png": "[encoded data removed]",
      "text/plain": [
       "<matplotlib.figure.Figure at 0x7ff2997b9810>"
      ]
     },
     "metadata": {},
     "output_type": "display_data"
    }
   ],
   "source": [
    "index = 3\n",
    "#print results(Train_spectra_key[index])\n",
    "\n",
    "plt.plot(Train_spectra[index])\n",
    "\n",
    "\n"
   ]
  },
  {
   "cell_type": "code",
   "execution_count": null,
   "metadata": {
    "collapsed": false
   },
   "outputs": [],
   "source": []
  },
  {
   "cell_type": "code",
   "execution_count": null,
   "metadata": {
    "collapsed": false
   },
   "outputs": [],
   "source": []
  },
  {
   "cell_type": "raw",
   "metadata": {
    "collapsed": true
   },
   "source": [
    "V2 - allowed low energy (<50kev) peaks in simulation\n",
    "V3 - decreased max isotopes to 5 from 20\n",
    "V4 - increased max isotopes to 5 from 10"
   ]
  },
  {
   "cell_type": "code",
   "execution_count": 37,
   "metadata": {
    "collapsed": false
   },
   "outputs": [
    {
     "name": "stdout",
     "output_type": "stream",
     "text": [
      "\n"
     ]
    }
   ],
   "source": [
    "np.save(\"ANSI_Trn_Set_1E5_V3\", Train_spectra[0:100000])\n"
   ]
  },
  {
   "cell_type": "code",
   "execution_count": 38,
   "metadata": {
    "collapsed": true
   },
   "outputs": [],
   "source": [
    "np.save(\"ANSI_Trn_Set_key_1E5_V3\", Train_spectra_key[0:100000])\n"
   ]
  },
  {
   "cell_type": "code",
   "execution_count": null,
   "metadata": {
    "collapsed": true
   },
   "outputs": [],
   "source": []
  },
  {
   "cell_type": "code",
   "execution_count": null,
   "metadata": {
    "collapsed": true
   },
   "outputs": [],
   "source": []
  },
  {
   "cell_type": "code",
   "execution_count": null,
   "metadata": {
    "collapsed": true
   },
   "outputs": [],
   "source": []
  },
  {
   "cell_type": "code",
   "execution_count": 64,
   "metadata": {
    "collapsed": false
   },
   "outputs": [
    {
     "data": {
      "image/png": "[encoded data removed]",
      "text/plain": [
       "<matplotlib.figure.Figure at 0x7fd01acb9c50>"
      ]
     },
     "metadata": {},
     "output_type": "display_data"
    }
   ],
   "source": [
    "''' \n",
    "Sample the spectrum.   This can be done as simply as \n",
    "\n",
    "output= sample_spectrum(iso_DRF,100000)\n",
    "Where 100000 is the number of counts to be used.\n",
    "\n",
    "'''\n",
    "\n",
    "\n",
    "%matplotlib inline\n",
    "fig=plt.figure(num=None,figsize=(12,6),dpi=100)\n",
    "ax= fig.add_subplot(111)\n",
    "ax.semilogy(DRF_bins,sample_spectrum(iso_DRF,1000),label=\"1E5 counts\")\n",
    "ax.semilogy(DRF_bins,sample_spectrum(iso_DRF,10000),label=\"1E4 counts\")\n",
    "ax.semilogy(DRF_bins,sample_spectrum(iso_DRF,10000),label=\"1E3 counts\")\n",
    "\n",
    "plt.legend()\n",
    "ax.set_xlabel('Energy (MeV)')\n",
    "ax.set_ylim([1, 100000])\n",
    "plt.show()"
   ]
  },
  {
   "cell_type": "code",
   "execution_count": null,
   "metadata": {
    "collapsed": false
   },
   "outputs": [],
   "source": []
  },
  {
   "cell_type": "code",
   "execution_count": 4,
   "metadata": {
    "collapsed": false
   },
   "outputs": [
    {
     "name": "stdout",
     "output_type": "stream",
     "text": []
    }
   ],
   "source": [
    "\n",
    "num_samples = 1000\n",
    "\n",
    "spectra_all = np.empty([num_samples,1024]) \n",
    "\n",
    "\n",
    "for i in range(num_samples):\n",
    "    \n",
    "    spectra_all[i] = sample_spectrum(iso_DRF,100000)[2:]\n",
    "    print i,\n",
    "    print '\\1b[2k\\r',\n",
    "    "
   ]
  },
  {
   "cell_type": "code",
   "execution_count": 5,
   "metadata": {
    "collapsed": false
   },
   "outputs": [
    {
     "data": {
      "text/plain": [
       "[<matplotlib.lines.Line2D at 0x7f0c64a0c250>]"
      ]
     },
     "execution_count": 5,
     "metadata": {},
     "output_type": "execute_result"
    },
    {
     "data": {
      "image/png": "[encoded data removed]",
      "text/plain": [
       "<matplotlib.figure.Figure at 0x7f0c66e20410>"
      ]
     },
     "metadata": {},
     "output_type": "display_data"
    }
   ],
   "source": [
    "plt.plot(spectra_all[5])"
   ]
  },
  {
   "cell_type": "code",
   "execution_count": 6,
   "metadata": {
    "collapsed": false
   },
   "outputs": [],
   "source": [
    "#np.save(\"Am241_1000_1E5\", spectra_all)\n"
   ]
  },
  {
   "cell_type": "code",
   "execution_count": 130,
   "metadata": {
    "collapsed": true
   },
   "outputs": [],
   "source": [
    "test2 = sample_spectrum(iso_DRF,0.15*273443)"
   ]
  },
  {
   "cell_type": "code",
   "execution_count": 125,
   "metadata": {
    "collapsed": true
   },
   "outputs": [],
   "source": [
    "#test = sample_spectrum(iso_DRF,0.58*273443)"
   ]
  },
  {
   "cell_type": "code",
   "execution_count": 134,
   "metadata": {
    "collapsed": false
   },
   "outputs": [
    {
     "data": {
      "text/plain": [
       "[<matplotlib.lines.Line2D at 0x7f99b4efd310>]"
      ]
     },
     "execution_count": 134,
     "metadata": {},
     "output_type": "execute_result"
    },
    {
     "data": {
      "image/png": "[encoded data removed]",
      "text/plain": [
       "<matplotlib.figure.Figure at 0x7f99b4eb0cd0>"
      ]
     },
     "metadata": {},
     "output_type": "display_data"
    }
   ],
   "source": [
    "plt.plot((test+test2),'r')\n",
    "plt.plot(spec)"
   ]
  },
  {
   "cell_type": "code",
   "execution_count": null,
   "metadata": {
    "collapsed": true
   },
   "outputs": [],
   "source": []
  },
  {
   "cell_type": "code",
   "execution_count": null,
   "metadata": {
    "collapsed": true
   },
   "outputs": [],
   "source": []
  }
 ],
 "metadata": {
  "kernelspec": {
   "display_name": "Python 2",
   "language": "python",
   "name": "python2"
  },
  "language_info": {
   "codemirror_mode": {
    "name": "ipython",
    "version": 2
   },
   "file_extension": ".py",
   "mimetype": "text/x-python",
   "name": "python",
   "nbconvert_exporter": "python",
   "pygments_lexer": "ipython2",
   "version": "2.7.11"
  }
 },
 "nbformat": 4,
 "nbformat_minor": 0
}
